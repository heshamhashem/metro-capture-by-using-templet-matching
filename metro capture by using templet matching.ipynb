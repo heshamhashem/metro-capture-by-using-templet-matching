{
 "cells": [
  {
   "cell_type": "code",
   "execution_count": 4,
   "metadata": {},
   "outputs": [],
   "source": [
    "import cv2 as cv\n",
    "import numpy as np\n",
    "from matplotlib import pyplot as plt\n",
    "\n",
    "cap= cv.VideoCapture('metro.mp4')\n",
    "\n",
    "while(1):\n",
    "    _,frame= cap.read()\n",
    "    \n",
    "    img = cv.cvtColor(frame, cv.COLOR_BGR2GRAY)\n",
    "    img2 = img.copy()\n",
    "    template = cv.imread('templete_metro.JPG',0)\n",
    "    w, h = template.shape[::-1]\n",
    "# All the 6 methods for comparison in a list\n",
    "   # methods = ['cv.TM_CCOEFF', 'cv.TM_CCOEFF_NORMED', 'cv.TM_CCORR',\n",
    "           # 'cv.TM_CCORR_NORMED', 'cv.TM_SQDIFF', 'cv.TM_SQDIFF_NORMED']\n",
    "    #for meth in methods:\n",
    "        #img = img2.copy()\n",
    "        #method = eval(meth)\n",
    "    # Apply template Matching\n",
    "    res = cv.matchTemplate(img,template,cv.TM_CCOEFF_NORMED)\n",
    "    min_val, max_val, min_loc, max_loc = cv.minMaxLoc(res)\n",
    "    # If the method is TM_SQDIFF or TM_SQDIFF_NORMED, take minimum\n",
    "        #if method in [cv.TM_SQDIFF, cv.TM_SQDIFF_NORMED]:\n",
    "            #top_left = min_loc\n",
    "        #else:\n",
    "    top_left = max_loc\n",
    "    bottom_right = (top_left[0] + w, top_left[1] + h)\n",
    "    cv.rectangle(img,top_left, bottom_right, 255, 40)\n",
    "    cv2.imshow('metro',img)\n",
    "    \n",
    "    k = cv2.waitKey(5) & 0xFF\n",
    "    if k == 27:\n",
    "        break\n",
    "\n",
    "cv2.destroyAllWindows()\n",
    "cap.release()"
   ]
  },
  {
   "cell_type": "markdown",
   "metadata": {},
   "source": [
    " "
   ]
  }
 ],
 "metadata": {
  "kernelspec": {
   "display_name": "Python 3",
   "language": "python",
   "name": "python3"
  },
  "language_info": {
   "codemirror_mode": {
    "name": "ipython",
    "version": 3
   },
   "file_extension": ".py",
   "mimetype": "text/x-python",
   "name": "python",
   "nbconvert_exporter": "python",
   "pygments_lexer": "ipython3",
   "version": "3.8.3"
  }
 },
 "nbformat": 4,
 "nbformat_minor": 4
}
